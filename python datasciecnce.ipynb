{
  "metadata": {
    "language_info": {
      "codemirror_mode": {
        "name": "python",
        "version": 3
      },
      "file_extension": ".py",
      "mimetype": "text/x-python",
      "name": "python",
      "nbconvert_exporter": "python",
      "pygments_lexer": "ipython3",
      "version": "3.8"
    },
    "kernelspec": {
      "name": "python",
      "display_name": "Python (Pyodide)",
      "language": "python"
    }
  },
  "nbformat_minor": 4,
  "nbformat": 4,
  "cells": [
    {
      "cell_type": "markdown",
      "source": "## JUPYTER NOTEBOOK - DATA SCIENCE",
      "metadata": {}
    },
    {
      "cell_type": "markdown",
      "source": "## data science language",
      "metadata": {}
    },
    {
      "cell_type": "code",
      "source": "lis=['Python','R','SQL','Java','Julia','Scala','C/C++','JavaScript','Swift']\n",
      "metadata": {
        "trusted": true
      },
      "execution_count": 2,
      "outputs": []
    },
    {
      "cell_type": "code",
      "source": "print(lis)",
      "metadata": {
        "trusted": true
      },
      "execution_count": 3,
      "outputs": [
        {
          "name": "stdout",
          "text": "['Python', 'R', 'SQL', 'Java', 'Julia', 'Scala', 'C/C++', 'JavaScript', 'Swift']\n",
          "output_type": "stream"
        }
      ]
    },
    {
      "cell_type": "markdown",
      "source": "## Upload the screenshot showing the markdown cell created with an introductory sentence followed by an ordered list of data science libraries that are saved as 5-dslibraries.png, as required for Exercise 5. (3 pts)\n\n",
      "metadata": {}
    },
    {
      "cell_type": "markdown",
      "source": "## data science libraries",
      "metadata": {}
    },
    {
      "cell_type": "code",
      "source": "lib=['TensorFlow','NumPy','SciPy','pandas','matplotlib ','Keras','SciKit-Learn','PyTorch','Scrapy','BeautifulSoup']",
      "metadata": {
        "trusted": true
      },
      "execution_count": 5,
      "outputs": []
    },
    {
      "cell_type": "code",
      "source": "print(lib)",
      "metadata": {
        "trusted": true
      },
      "execution_count": 6,
      "outputs": [
        {
          "name": "stdout",
          "text": "['TensorFlow', 'NumPy', 'SciPy', 'pandas', 'matplotlib ', 'Keras', 'SciKit-Learn', 'PyTorch', 'Scrapy', 'BeautifulSoup']\n",
          "output_type": "stream"
        }
      ]
    },
    {
      "cell_type": "code",
      "source": "## output printed",
      "metadata": {
        "trusted": true
      },
      "execution_count": 7,
      "outputs": []
    },
    {
      "cell_type": "markdown",
      "source": "## data science tools",
      "metadata": {}
    },
    {
      "cell_type": "code",
      "source": "tools=['anaconda','jupyter','rstudio','spyder']",
      "metadata": {
        "trusted": true
      },
      "execution_count": 8,
      "outputs": []
    },
    {
      "cell_type": "code",
      "source": "print(tools)",
      "metadata": {
        "trusted": true
      },
      "execution_count": 9,
      "outputs": [
        {
          "name": "stdout",
          "text": "['anaconda', 'jupyter', 'rstudio', 'spyder']\n",
          "output_type": "stream"
        }
      ]
    },
    {
      "cell_type": "markdown",
      "source": "##ouput printed",
      "metadata": {}
    },
    {
      "cell_type": "markdown",
      "source": "### Upload the screenshot showing the markdown cell created with an introductory sentence about arithmetic expression examples that is saved as 7-introarithmetic.png, as required for Exercise 7. (1 pt)",
      "metadata": {}
    },
    {
      "cell_type": "code",
      "source": "print(2+3)",
      "metadata": {
        "trusted": true
      },
      "execution_count": 10,
      "outputs": [
        {
          "name": "stdout",
          "text": "5\n",
          "output_type": "stream"
        }
      ]
    },
    {
      "cell_type": "code",
      "source": "print(8//2)",
      "metadata": {
        "trusted": true
      },
      "execution_count": 11,
      "outputs": [
        {
          "name": "stdout",
          "text": "4\n",
          "output_type": "stream"
        }
      ]
    },
    {
      "cell_type": "code",
      "source": "print(7**3)",
      "metadata": {
        "trusted": true
      },
      "execution_count": 12,
      "outputs": [
        {
          "name": "stdout",
          "text": "343\n",
          "output_type": "stream"
        }
      ]
    },
    {
      "cell_type": "markdown",
      "source": "## Upload the screenshot showing the code cell created to multiply and add numbers that is saved as 8-multiplyandaddintegers.png, as required for Exercise 8. (2 pts)\n\n",
      "metadata": {}
    },
    {
      "cell_type": "code",
      "source": "## multiply and add numbers",
      "metadata": {
        "trusted": true
      },
      "execution_count": 14,
      "outputs": []
    },
    {
      "cell_type": "code",
      "source": "a=3*5",
      "metadata": {
        "trusted": true
      },
      "execution_count": 15,
      "outputs": []
    },
    {
      "cell_type": "code",
      "source": "print(a+2)",
      "metadata": {
        "trusted": true
      },
      "execution_count": 16,
      "outputs": [
        {
          "name": "stdout",
          "text": "17\n",
          "output_type": "stream"
        }
      ]
    },
    {
      "cell_type": "markdown",
      "source": "## Upload the screenshot showing the code cell created to convert minutes to hours that is saved as 9-hourstominutes.png, as required for Exercise 9. (2 pts)",
      "metadata": {}
    },
    {
      "cell_type": "code",
      "source": "#hours to minutes",
      "metadata": {
        "trusted": true
      },
      "execution_count": 20,
      "outputs": []
    },
    {
      "cell_type": "code",
      "source": "hr=3",
      "metadata": {
        "trusted": true
      },
      "execution_count": 17,
      "outputs": []
    },
    {
      "cell_type": "code",
      "source": "print(hr*60)",
      "metadata": {
        "trusted": true
      },
      "execution_count": 19,
      "outputs": [
        {
          "name": "stdout",
          "text": "274020\n",
          "output_type": "stream"
        }
      ]
    },
    {
      "cell_type": "markdown",
      "source": "### Upload the screenshot showing the markdown cell inserted with an introductory sentence followed by an unordered list that is saved as 10-objectives.png, as required for Exercise 10. (3 pts)",
      "metadata": {}
    },
    {
      "cell_type": "code",
      "source": "objectives='''1.add comment to code\n2.add heading to code\n3.add ordered and unordered list to cells '''",
      "metadata": {
        "trusted": true
      },
      "execution_count": 23,
      "outputs": []
    },
    {
      "cell_type": "code",
      "source": "print(objectives)",
      "metadata": {
        "trusted": true
      },
      "execution_count": 24,
      "outputs": [
        {
          "name": "stdout",
          "text": "1.add comment to code\n2.add heading to code\n3.add ordered and unordered list to cells \n",
          "output_type": "stream"
        }
      ]
    },
    {
      "cell_type": "markdown",
      "source": "## Author",
      "metadata": {}
    },
    {
      "cell_type": "markdown",
      "source": " NISHA B",
      "metadata": {}
    },
    {
      "cell_type": "code",
      "source": "",
      "metadata": {},
      "execution_count": null,
      "outputs": []
    }
  ]
}